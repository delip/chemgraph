{
 "cells": [
  {
   "cell_type": "code",
   "execution_count": 2,
   "metadata": {
    "vscode": {
     "languageId": "plaintext"
    }
   },
   "outputs": [
    {
     "name": "stdout",
     "output_type": "stream",
     "text": [
      "2025-06-16 02:33:19,195 - chemgraph.tools.openai_loader - INFO - Loading OpenAI model: gpt-4o-mini\n"
     ]
    },
    {
     "name": "stderr",
     "output_type": "stream",
     "text": [
      "INFO:chemgraph.tools.openai_loader:Loading OpenAI model: gpt-4o-mini\n"
     ]
    },
    {
     "name": "stdout",
     "output_type": "stream",
     "text": [
      "2025-06-16 02:33:19,196 - chemgraph.tools.openai_loader - INFO - Requested model: gpt-4o-mini\n"
     ]
    },
    {
     "name": "stderr",
     "output_type": "stream",
     "text": [
      "INFO:chemgraph.tools.openai_loader:Requested model: gpt-4o-mini\n"
     ]
    },
    {
     "name": "stdout",
     "output_type": "stream",
     "text": [
      "2025-06-16 02:33:19,197 - chemgraph.tools.openai_loader - INFO - OpenAI model loaded successfully\n"
     ]
    },
    {
     "name": "stderr",
     "output_type": "stream",
     "text": [
      "INFO:chemgraph.tools.openai_loader:OpenAI model loaded successfully\n"
     ]
    },
    {
     "name": "stdout",
     "output_type": "stream",
     "text": [
      "2025-06-16 02:33:19,197 - chemgraph.graphs.graspa_agent - INFO - Constructing gRASPA graph\n"
     ]
    },
    {
     "name": "stderr",
     "output_type": "stream",
     "text": [
      "INFO:chemgraph.graphs.graspa_agent:Constructing gRASPA graph\n"
     ]
    },
    {
     "name": "stdout",
     "output_type": "stream",
     "text": [
      "2025-06-16 02:33:19,199 - chemgraph.graphs.graspa_agent - INFO - gRASPA graph construction completed\n"
     ]
    },
    {
     "name": "stderr",
     "output_type": "stream",
     "text": [
      "INFO:chemgraph.graphs.graspa_agent:gRASPA graph construction completed\n"
     ]
    },
    {
     "name": "stdout",
     "output_type": "stream",
     "text": [
      "================================\u001b[1m Human Message \u001b[0m=================================\n",
      "\n",
      "What is the CO2 adsorption capacity in CALF-20? Run GCMC simulation at 323K and 10000 Pascal using 500 cycles. The CIF file is stored in cif_files/calf-20_pacmof.cif. Store the gRASPA output in a test/ folder.\n",
      "==================================\u001b[1m Ai Message \u001b[0m==================================\n",
      "Tool Calls:\n",
      "  run_graspa (call_Ferqr1zUWlGktD7wypvrdzxq)\n",
      " Call ID: call_Ferqr1zUWlGktD7wypvrdzxq\n",
      "  Args:\n",
      "    graspa_input: {'output_path': 'test/', 'cif_path': 'cif_files/calf-20_pacmof.cif', 'mof_name': 'CALF-20', 'adsorbate': 'CO2', 'temperature': 323, 'pressure': 10000, 'n_cycle': 500}\n",
      "=================================\u001b[1m Tool Message \u001b[0m=================================\n",
      "Name: run_graspa\n",
      "\n",
      "\"('1.23351', '0.16439', '86.80241', '11.56832')\"\n",
      "==================================\u001b[1m Ai Message \u001b[0m==================================\n",
      "\n",
      "The CO2 adsorption capacity for CALF-20 at 323 K and 10,000 Pascal using 500 cycles is as follows:\n",
      "\n",
      "- Uptake (U) in mol/kg: 1.23351\n",
      "- Error (E) in mol/kg: 0.16439\n",
      "- Uptake (U) in g/L: 86.80241\n",
      "- Error (E) in g/L: 11.56832\n",
      "\n",
      "If you need any further information or assistance, feel free to ask!\n"
     ]
    }
   ],
   "source": [
    "from chemgraph.agent.llm_agent import ChemGraph\n",
    "workflow_type = \"graspa\"\n",
    "system_prompt = \"You are an expert in running grand canonical monte carlo simulation. You task is to use the tools given to answer the user's request\"\n",
    "cg = ChemGraph(model_name='gpt-4o-mini', workflow_type = workflow_type, system_prompt=system_prompt, structured_output=False, return_option=\"state\")\n",
    "\n",
    "query = \"What is the CO2 adsorption capacity in CALF-20? Run GCMC simulation at 323K and 10000 Pascal using 500 cycles. The CIF file is stored in cif_files/calf-20_pacmof.cif. Store the gRASPA output in a test/ folder.\"\n",
    "\n",
    "state = cg.run(query, config={\"configurable\": {\"thread_id\": 1}})\n"
   ]
  }
 ],
 "metadata": {
  "kernelspec": {
   "display_name": "cca_env",
   "language": "python",
   "name": "cca_env"
  },
  "language_info": {
   "codemirror_mode": {
    "name": "ipython",
    "version": 3
   },
   "file_extension": ".py",
   "mimetype": "text/x-python",
   "name": "python",
   "nbconvert_exporter": "python",
   "pygments_lexer": "ipython3",
   "version": "3.10.16"
  }
 },
 "nbformat": 4,
 "nbformat_minor": 4
}
